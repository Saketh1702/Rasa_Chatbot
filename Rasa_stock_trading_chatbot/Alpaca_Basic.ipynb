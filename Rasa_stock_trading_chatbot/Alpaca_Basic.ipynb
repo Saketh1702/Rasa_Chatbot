{
 "cells": [
  {
   "cell_type": "markdown",
   "metadata": {},
   "source": [
    "## Trade Using Alpaca API."
   ]
  },
  {
   "cell_type": "code",
   "execution_count": null,
   "metadata": {
    "colab": {
     "base_uri": "https://localhost:8080/"
    },
    "id": "RlSgjDq6iTpA",
    "outputId": "e09deb0a-850c-4ce5-c513-c521473781c7",
    "scrolled": true
   },
   "outputs": [
    {
     "name": "stdout",
     "output_type": "stream",
     "text": [
      "Collecting alpaca-trade-api\n",
      "  Downloading https://files.pythonhosted.org/packages/78/e2/0f54ba7ee0ccfd01f24cf9428f9a37ffe22d014143bf7731fa1f7fc562d9/alpaca_trade_api-1.2.1-py3-none-any.whl\n",
      "Requirement already satisfied: urllib3<2,>1.24 in /usr/local/lib/python3.7/dist-packages (from alpaca-trade-api) (1.24.3)\n",
      "Requirement already satisfied: msgpack==1.0.2 in /usr/local/lib/python3.7/dist-packages (from alpaca-trade-api) (1.0.2)\n",
      "Collecting websockets<9,>=8.0\n",
      "\u001b[?25l  Downloading https://files.pythonhosted.org/packages/5a/0b/3ebc752392a368af14dd24ee041683416ac6d2463eead94b311b11e41c82/websockets-8.1-cp37-cp37m-manylinux2010_x86_64.whl (79kB)\n",
      "\u001b[K     |████████████████████████████████| 81kB 4.2MB/s \n",
      "\u001b[?25hCollecting websocket-client<1,>=0.56.0\n",
      "\u001b[?25l  Downloading https://files.pythonhosted.org/packages/f7/0c/d52a2a63512a613817846d430d16a8fbe5ea56dd889e89c68facf6b91cb6/websocket_client-0.59.0-py2.py3-none-any.whl (67kB)\n",
      "\u001b[K     |████████████████████████████████| 71kB 5.2MB/s \n",
      "\u001b[?25hRequirement already satisfied: pandas in /usr/local/lib/python3.7/dist-packages (from alpaca-trade-api) (1.1.5)\n",
      "Requirement already satisfied: numpy in /usr/local/lib/python3.7/dist-packages (from alpaca-trade-api) (1.19.5)\n",
      "Requirement already satisfied: requests<3,>2 in /usr/local/lib/python3.7/dist-packages (from alpaca-trade-api) (2.23.0)\n",
      "Requirement already satisfied: six in /usr/local/lib/python3.7/dist-packages (from websocket-client<1,>=0.56.0->alpaca-trade-api) (1.15.0)\n",
      "Requirement already satisfied: pytz>=2017.2 in /usr/local/lib/python3.7/dist-packages (from pandas->alpaca-trade-api) (2018.9)\n",
      "Requirement already satisfied: python-dateutil>=2.7.3 in /usr/local/lib/python3.7/dist-packages (from pandas->alpaca-trade-api) (2.8.1)\n",
      "Requirement already satisfied: idna<3,>=2.5 in /usr/local/lib/python3.7/dist-packages (from requests<3,>2->alpaca-trade-api) (2.10)\n",
      "Requirement already satisfied: chardet<4,>=3.0.2 in /usr/local/lib/python3.7/dist-packages (from requests<3,>2->alpaca-trade-api) (3.0.4)\n",
      "Requirement already satisfied: certifi>=2017.4.17 in /usr/local/lib/python3.7/dist-packages (from requests<3,>2->alpaca-trade-api) (2020.12.5)\n",
      "Installing collected packages: websockets, websocket-client, alpaca-trade-api\n",
      "Successfully installed alpaca-trade-api-1.2.1 websocket-client-0.59.0 websockets-8.1\n"
     ]
    }
   ],
   "source": [
    "!pip install alpaca-trade-api"
   ]
  },
  {
   "cell_type": "code",
   "execution_count": null,
   "metadata": {
    "id": "Qrd8exdtihfK"
   },
   "outputs": [],
   "source": [
    "API_KEY = 'Enter Your Api Key'\n",
    "SECRET_TOKEN = 'Enter your Secret Token'\n",
    "BASE_URL = 'https://paper-api.alpaca.markets'"
   ]
  },
  {
   "cell_type": "code",
   "execution_count": null,
   "metadata": {
    "id": "735a3uDbjbVN"
   },
   "outputs": [],
   "source": [
    "import alpaca_trade_api as tradeapi\n",
    "\n",
    "api = tradeapi.REST(\n",
    "    base_url = BASE_URL,\n",
    "    key_id = API_KEY,\n",
    "    secret_key = SECRET_TOKEN\n",
    ")\n",
    "\n",
    "account = api.get_account()"
   ]
  },
  {
   "cell_type": "code",
   "execution_count": 1,
   "metadata": {
    "colab": {
     "base_uri": "https://localhost:8080/"
    },
    "id": "uKinLhwZkSND",
    "outputId": "422e0d6a-2e13-4908-c73f-19a410b646b0"
   },
   "outputs": [
    {
     "name": "stdout",
     "output_type": "stream",
     "text": [
      "$400000 is available as buying power\n"
     ]
    }
   ],
   "source": [
    "if account.trading_blocked:\n",
    "  print(\"Your Account is restricted from trading.\")\n",
    "\n",
    "print(\"${} is available as buying power\".format(account.buying_power))\n"
   ]
  },
  {
   "cell_type": "code",
   "execution_count": null,
   "metadata": {
    "colab": {
     "base_uri": "https://localhost:8080/"
    },
    "id": "gmVU5xEKl7MO",
    "outputId": "473f9f15-371b-4719-b032-697945b37fe2"
   },
   "outputs": [
    {
     "name": "stdout",
     "output_type": "stream",
     "text": [
      "today portfolio balance changes: $10.580000000001746\n"
     ]
    }
   ],
   "source": [
    "balance_change = float(account.equity) - float(account.last_equity)\n",
    "print(f'today portfolio balance changes: ${balance_change}')"
   ]
  },
  {
   "cell_type": "code",
   "execution_count": null,
   "metadata": {
    "colab": {
     "base_uri": "https://localhost:8080/"
    },
    "id": "yyMpTGODnHL0",
    "outputId": "a75c6c85-c265-4a02-feb6-30c8dd17ad4e"
   },
   "outputs": [
    {
     "name": "stdout",
     "output_type": "stream",
     "text": [
      "Order({   'asset_class': 'us_equity',\n",
      "    'asset_id': 'fc6a5dcd-4a70-4b8d-b64f-d83a6dae9ba4',\n",
      "    'canceled_at': None,\n",
      "    'client_order_id': '9638e8b2-d7c7-4afb-a632-20533f679c62',\n",
      "    'created_at': '2021-05-03T15:39:01.486291Z',\n",
      "    'expired_at': None,\n",
      "    'extended_hours': False,\n",
      "    'failed_at': None,\n",
      "    'filled_at': None,\n",
      "    'filled_avg_price': None,\n",
      "    'filled_qty': '0',\n",
      "    'hwm': None,\n",
      "    'id': 'f102f6fe-b321-4dde-b5ec-04c59702223e',\n",
      "    'legs': None,\n",
      "    'limit_price': None,\n",
      "    'notional': None,\n",
      "    'order_class': '',\n",
      "    'order_type': 'market',\n",
      "    'qty': '2',\n",
      "    'replaced_at': None,\n",
      "    'replaced_by': None,\n",
      "    'replaces': None,\n",
      "    'side': 'buy',\n",
      "    'status': 'accepted',\n",
      "    'stop_price': None,\n",
      "    'submitted_at': '2021-05-03T15:39:01.4667Z',\n",
      "    'symbol': 'FB',\n",
      "    'time_in_force': 'day',\n",
      "    'trail_percent': None,\n",
      "    'trail_price': None,\n",
      "    'type': 'market',\n",
      "    'updated_at': '2021-05-03T15:39:01.486291Z'})\n"
     ]
    }
   ],
   "source": [
    "order = api.submit_order(symbol=\"FB\",qty = 2,side='buy', type='market', time_in_force= 'day')\n",
    "\n",
    "print(order)"
   ]
  },
  {
   "cell_type": "code",
   "execution_count": null,
   "metadata": {
    "colab": {
     "base_uri": "https://localhost:8080/"
    },
    "id": "LMMJ-seMrUMb",
    "outputId": "15adb8a7-ce38-4a2d-a249-832028fe6349"
   },
   "outputs": [
    {
     "name": "stdout",
     "output_type": "stream",
     "text": [
      "Order({   'asset_class': 'us_equity',\n",
      "    'asset_id': '69b15845-7c63-4586-b274-1cfdfe9df3d8',\n",
      "    'canceled_at': None,\n",
      "    'client_order_id': 'ca6790b7-e190-48d1-8ee1-62c69a3358cf',\n",
      "    'created_at': '2021-04-28T18:16:14.708793Z',\n",
      "    'expired_at': None,\n",
      "    'extended_hours': False,\n",
      "    'failed_at': None,\n",
      "    'filled_at': None,\n",
      "    'filled_avg_price': None,\n",
      "    'filled_qty': '0',\n",
      "    'hwm': None,\n",
      "    'id': '2a2fa819-4a7f-4b1c-8cb3-7f175084924f',\n",
      "    'legs': None,\n",
      "    'limit_price': '2400',\n",
      "    'notional': None,\n",
      "    'order_class': '',\n",
      "    'order_type': 'limit',\n",
      "    'qty': '2',\n",
      "    'replaced_at': None,\n",
      "    'replaced_by': None,\n",
      "    'replaces': None,\n",
      "    'side': 'buy',\n",
      "    'status': 'accepted',\n",
      "    'stop_price': None,\n",
      "    'submitted_at': '2021-04-28T18:16:14.70125Z',\n",
      "    'symbol': 'GOOGL',\n",
      "    'time_in_force': 'day',\n",
      "    'trail_percent': None,\n",
      "    'trail_price': None,\n",
      "    'type': 'limit',\n",
      "    'updated_at': '2021-04-28T18:16:14.708793Z'})\n"
     ]
    }
   ],
   "source": [
    "order_limit = api.submit_order(symbol='GOOGL', qty=2, side = 'buy', type = 'limit', limit_price=2400, time_in_force='day')\n",
    "\n",
    "print(order_limit)"
   ]
  },
  {
   "cell_type": "code",
   "execution_count": null,
   "metadata": {
    "colab": {
     "base_uri": "https://localhost:8080/"
    },
    "id": "Ke2jfpspsz3C",
    "outputId": "a1da6053-21fc-45ec-c4bc-7ce0f9afdfcd"
   },
   "outputs": [
    {
     "name": "stdout",
     "output_type": "stream",
     "text": [
      "Order({   'asset_class': 'us_equity',\n",
      "    'asset_id': 'fc6a5dcd-4a70-4b8d-b64f-d83a6dae9ba4',\n",
      "    'canceled_at': None,\n",
      "    'client_order_id': 'd3673a88-b419-4a00-b196-bfdc90c4038b',\n",
      "    'created_at': '2021-05-06T10:19:48.831227Z',\n",
      "    'expired_at': None,\n",
      "    'extended_hours': False,\n",
      "    'failed_at': None,\n",
      "    'filled_at': None,\n",
      "    'filled_avg_price': None,\n",
      "    'filled_qty': '0',\n",
      "    'hwm': None,\n",
      "    'id': '70d58bd7-f850-4a6c-b1fd-9014528aab4e',\n",
      "    'legs': None,\n",
      "    'limit_price': None,\n",
      "    'notional': None,\n",
      "    'order_class': '',\n",
      "    'order_type': 'market',\n",
      "    'qty': '2',\n",
      "    'replaced_at': None,\n",
      "    'replaced_by': None,\n",
      "    'replaces': None,\n",
      "    'side': 'sell',\n",
      "    'status': 'accepted',\n",
      "    'stop_price': None,\n",
      "    'submitted_at': '2021-05-06T10:19:48.829494Z',\n",
      "    'symbol': 'FB',\n",
      "    'time_in_force': 'day',\n",
      "    'trail_percent': None,\n",
      "    'trail_price': None,\n",
      "    'type': 'market',\n",
      "    'updated_at': '2021-05-06T10:19:48.831227Z'})\n"
     ]
    }
   ],
   "source": [
    "order_sell = api.submit_order(symbol= 'FB', qty=2, side = 'sell', type = 'market', time_in_force='day')\n",
    "\n",
    "print(order_sell)"
   ]
  },
  {
   "cell_type": "code",
   "execution_count": null,
   "metadata": {
    "colab": {
     "base_uri": "https://localhost:8080/"
    },
    "id": "t6aynYast9pE",
    "outputId": "b4b5818c-c57c-447e-fcad-107a3e545fa6"
   },
   "outputs": [
    {
     "name": "stdout",
     "output_type": "stream",
     "text": [
      "Order({   'asset_class': 'us_equity',\n",
      "    'asset_id': 'fc6a5dcd-4a70-4b8d-b64f-d83a6dae9ba4',\n",
      "    'canceled_at': None,\n",
      "    'client_order_id': 'ea315ef0-d0ea-4773-9ce3-ed7e76a962ad',\n",
      "    'created_at': '2021-04-28T18:24:36.388059Z',\n",
      "    'expired_at': None,\n",
      "    'extended_hours': False,\n",
      "    'failed_at': None,\n",
      "    'filled_at': None,\n",
      "    'filled_avg_price': None,\n",
      "    'filled_qty': '0',\n",
      "    'hwm': None,\n",
      "    'id': '10b5b1ff-f0cb-48c4-801f-c354af23fb54',\n",
      "    'legs': None,\n",
      "    'limit_price': None,\n",
      "    'notional': None,\n",
      "    'order_class': '',\n",
      "    'order_type': 'market',\n",
      "    'qty': '5',\n",
      "    'replaced_at': None,\n",
      "    'replaced_by': None,\n",
      "    'replaces': None,\n",
      "    'side': 'sell',\n",
      "    'status': 'accepted',\n",
      "    'stop_price': None,\n",
      "    'submitted_at': '2021-04-28T18:24:36.375682Z',\n",
      "    'symbol': 'FB',\n",
      "    'time_in_force': 'day',\n",
      "    'trail_percent': None,\n",
      "    'trail_price': None,\n",
      "    'type': 'market',\n",
      "    'updated_at': '2021-04-28T18:24:36.388059Z'})\n"
     ]
    }
   ],
   "source": [
    "order_fb = api.submit_order(symbol=\"FB\", qty=5, side = 'sell', type='market', time_in_force= 'day')\n",
    "\n",
    "print(order_fb)"
   ]
  },
  {
   "cell_type": "code",
   "execution_count": null,
   "metadata": {
    "colab": {
     "base_uri": "https://localhost:8080/"
    },
    "id": "jFF1q-NvpGqy",
    "outputId": "0d97a6fa-dcb8-4d9e-da38-84e2b0cc9c8d"
   },
   "outputs": [
    {
     "name": "stdout",
     "output_type": "stream",
     "text": [
      "Order({   'asset_class': 'us_equity',\n",
      "     'asset_id': '8ccae427-5dd0-45b3-b5fe-7ba5e422c766',\n",
      "     'canceled_at': None,\n",
      "     'client_order_id': '1e97805a-3d3e-484e-83f2-b7e7e89603c1',\n",
      "     'created_at': '2021-04-28T18:54:08.633326Z',\n",
      "     'expired_at': None,\n",
      "     'extended_hours': False,\n",
      "     'failed_at': None,\n",
      "     'filled_at': None,\n",
      "     'filled_avg_price': None,\n",
      "     'filled_qty': '0',\n",
      "     'hwm': None,\n",
      "     'id': 'aba4efbd-a386-469c-8797-9995ee1c3f7c',\n",
      "     'legs': None,\n",
      "     'limit_price': '620',\n",
      "     'notional': None,\n",
      "     'order_class': '',\n",
      "     'order_type': 'limit',\n",
      "     'qty': '2',\n",
      "     'replaced_at': None,\n",
      "     'replaced_by': None,\n",
      "     'replaces': None,\n",
      "     'side': 'sell',\n",
      "     'status': 'accepted',\n",
      "     'stop_price': None,\n",
      "     'submitted_at': '2021-04-28T18:54:08.62206Z',\n",
      "     'symbol': 'TSLA',\n",
      "     'time_in_force': 'day',\n",
      "     'trail_percent': None,\n",
      "     'trail_price': None,\n",
      "     'type': 'limit',\n",
      "     'updated_at': '2021-04-28T18:54:08.633326Z'})\n"
     ]
    }
   ],
   "source": [
    "order_limit_sell = api.submit_order(symbol= 'TSLA', qty=2, side = 'sell', type = 'limit', limit_price= 620, time_in_force= 'day')\n",
    "\n",
    "print(order_limit_sell)"
   ]
  }
 ],
 "metadata": {
  "colab": {
   "collapsed_sections": [],
   "name": "trade_chatbot",
   "provenance": []
  },
  "kernelspec": {
   "display_name": "Python 3",
   "language": "python",
   "name": "python3"
  },
  "language_info": {
   "codemirror_mode": {
    "name": "ipython",
    "version": 3
   },
   "file_extension": ".py",
   "mimetype": "text/x-python",
   "name": "python",
   "nbconvert_exporter": "python",
   "pygments_lexer": "ipython3",
   "version": "3.7.6"
  }
 },
 "nbformat": 4,
 "nbformat_minor": 1
}
